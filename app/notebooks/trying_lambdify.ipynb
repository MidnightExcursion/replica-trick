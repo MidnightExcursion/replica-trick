{
 "cells": [
  {
   "cell_type": "markdown",
   "metadata": {},
   "source": [
    "Import libraries."
   ]
  },
  {
   "cell_type": "code",
   "execution_count": 73,
   "metadata": {},
   "outputs": [],
   "source": [
    "import sympy as sp\n",
    "import numpy as np"
   ]
  },
  {
   "cell_type": "markdown",
   "metadata": {},
   "source": [
    "First, we define a symbolic variable $x$."
   ]
  },
  {
   "cell_type": "code",
   "execution_count": 74,
   "metadata": {},
   "outputs": [
    {
     "data": {
      "text/latex": [
       "$\\displaystyle x$"
      ],
      "text/plain": [
       "x"
      ]
     },
     "execution_count": 74,
     "metadata": {},
     "output_type": "execute_result"
    }
   ],
   "source": [
    "variable_x = sp.Symbol('x')\n",
    "variable_x"
   ]
  },
  {
   "cell_type": "markdown",
   "metadata": {},
   "source": [
    "Now, we try passing this variable into several SymPy functions to see if that works."
   ]
  },
  {
   "cell_type": "code",
   "execution_count": 75,
   "metadata": {},
   "outputs": [
    {
     "data": {
      "text/latex": [
       "$\\displaystyle \\sin{\\left(x \\right)}$"
      ],
      "text/plain": [
       "sin(x)"
      ]
     },
     "execution_count": 75,
     "metadata": {},
     "output_type": "execute_result"
    }
   ],
   "source": [
    "sp.sin(variable_x)"
   ]
  },
  {
   "cell_type": "code",
   "execution_count": 76,
   "metadata": {},
   "outputs": [
    {
     "data": {
      "text/latex": [
       "$\\displaystyle e^{x}$"
      ],
      "text/plain": [
       "exp(x)"
      ]
     },
     "execution_count": 76,
     "metadata": {},
     "output_type": "execute_result"
    }
   ],
   "source": [
    "sp.exp(variable_x)"
   ]
  },
  {
   "cell_type": "code",
   "execution_count": 77,
   "metadata": {},
   "outputs": [
    {
     "data": {
      "text/latex": [
       "$\\displaystyle x^{2} + 5 x$"
      ],
      "text/plain": [
       "x**2 + 5*x"
      ]
     },
     "execution_count": 77,
     "metadata": {},
     "output_type": "execute_result"
    }
   ],
   "source": [
    "variable_x**2 + 5 * variable_x"
   ]
  },
  {
   "cell_type": "markdown",
   "metadata": {},
   "source": [
    "Alright, I'm convinced that this will work.\n",
    "\n",
    "Now, we just code up several functions that  \"apply\" the function to the variable."
   ]
  },
  {
   "cell_type": "markdown",
   "metadata": {},
   "source": [
    "## Constant Multiplication"
   ]
  },
  {
   "cell_type": "code",
   "execution_count": 78,
   "metadata": {},
   "outputs": [],
   "source": [
    "def sympy_constant_function(\n",
    "    sympy_variable_x: sp.Symbol, \n",
    "    parameter_A: float) -> float:\n",
    "\n",
    "    try:\n",
    "        return parameter_A * sympy_variable_x\n",
    "    except:\n",
    "        FLOAT_ZERO = 0.\n",
    "        return FLOAT_ZERO"
   ]
  },
  {
   "cell_type": "markdown",
   "metadata": {},
   "source": [
    "## Polynomials"
   ]
  },
  {
   "cell_type": "code",
   "execution_count": 79,
   "metadata": {},
   "outputs": [],
   "source": [
    "def sympy_nth_degree_polynomial(\n",
    "    sympy_variable_x: sp.Symbol, \n",
    "    list_of_polynomial_coefficients: list) -> float:\n",
    "\n",
    "    try:\n",
    "        result = 0\n",
    "        for i, coefficient in enumerate(list_of_polynomial_coefficients):\n",
    "            result += coefficient * (sympy_variable_x ** i)\n",
    "        return result\n",
    "    except:\n",
    "        FLOAT_ZERO = 0.\n",
    "        return FLOAT_ZERO"
   ]
  },
  {
   "cell_type": "code",
   "execution_count": 80,
   "metadata": {},
   "outputs": [
    {
     "data": {
      "text/latex": [
       "$\\displaystyle 3 x^{2} + 2 x + 1$"
      ],
      "text/plain": [
       "3*x**2 + 2*x + 1"
      ]
     },
     "execution_count": 80,
     "metadata": {},
     "output_type": "execute_result"
    }
   ],
   "source": [
    "sympy_nth_degree_polynomial(variable_x, [1,2,3])"
   ]
  },
  {
   "cell_type": "markdown",
   "metadata": {},
   "source": [
    "## Logarithms:"
   ]
  },
  {
   "cell_type": "code",
   "execution_count": 81,
   "metadata": {},
   "outputs": [],
   "source": [
    "def sympy_logarithmic_function(\n",
    "    sympy_variable_x: sp.Symbol, \n",
    "    parameter_A: float,\n",
    "    parameter_B: float) -> float:\n",
    "\n",
    "    try:\n",
    "        return parameter_A * sp.log(parameter_B * sympy_variable_x)\n",
    "    except Exception as ERROR:\n",
    "        print(f\"Fuck\")\n",
    "        return 0."
   ]
  },
  {
   "cell_type": "code",
   "execution_count": 82,
   "metadata": {},
   "outputs": [
    {
     "data": {
      "text/latex": [
       "$\\displaystyle 4 \\log{\\left(5.6 x \\right)}$"
      ],
      "text/plain": [
       "4*log(5.6*x)"
      ]
     },
     "execution_count": 82,
     "metadata": {},
     "output_type": "execute_result"
    }
   ],
   "source": [
    "sympy_logarithmic_function(variable_x, 4, 5.6)"
   ]
  },
  {
   "cell_type": "markdown",
   "metadata": {},
   "source": [
    "## Exponentials:"
   ]
  },
  {
   "cell_type": "code",
   "execution_count": 83,
   "metadata": {},
   "outputs": [],
   "source": [
    "def sympy_exponential_function(\n",
    "        sympy_variable_x: sp.Symbol,\n",
    "        parameter_A: float,\n",
    "        parameter_B: float) -> float:\n",
    "    \"\"\"\n",
    "    # Description:\n",
    "    --------------\n",
    "    Calculate the exponential function A * e^(B * x).\n",
    "    \n",
    "    # Parameters:\n",
    "    --------------\n",
    "    :param x: The input value(s) where the function is evaluated (can be a numpy array).\n",
    "\n",
    "    :param A: The scaling factor for the output.\n",
    "\n",
    "    :param B: The scaling factor for the input.\n",
    "\n",
    "    # Returns\n",
    "    --------------\n",
    "    :return: The result of the exponential function.\n",
    "    \"\"\"\n",
    "    try:\n",
    "        return parameter_A * sp.exp(parameter_B * sympy_variable_x)\n",
    "    except Exception as ERROR:\n",
    "        print(f\"Fuck\")\n",
    "        return 0."
   ]
  },
  {
   "cell_type": "code",
   "execution_count": 84,
   "metadata": {},
   "outputs": [
    {
     "data": {
      "text/latex": [
       "$\\displaystyle 20 e^{99 x}$"
      ],
      "text/plain": [
       "20*exp(99*x)"
      ]
     },
     "execution_count": 84,
     "metadata": {},
     "output_type": "execute_result"
    }
   ],
   "source": [
    "sympy_exponential_function(variable_x, 20, 99)"
   ]
  },
  {
   "cell_type": "markdown",
   "metadata": {},
   "source": [
    "I think I got the hang of this. One more before we try `lambdify`."
   ]
  },
  {
   "cell_type": "markdown",
   "metadata": {},
   "source": [
    "## Sine:"
   ]
  },
  {
   "cell_type": "code",
   "execution_count": 85,
   "metadata": {},
   "outputs": [],
   "source": [
    "def sympy_sine_function(\n",
    "        sympy_variable_x: sp.Symbol,\n",
    "        parameter_A: float,\n",
    "        parameter_B: float,\n",
    "        parameter_C: float) -> float:\n",
    "    \"\"\"\n",
    "    # Description:\n",
    "    --------------\n",
    "    Calculate the sinusoidal function A * sin(B * x + C).\n",
    "    \n",
    "    # Parameters:\n",
    "    --------------\n",
    "    :param x: The input value(s) where the function is evaluated (can be a numpy array).\n",
    "\n",
    "    :param A: The amplitude of the sine wave.\n",
    "\n",
    "    :param B: The frequency scaling factor.\n",
    "\n",
    "    :param C: The phase shift.\n",
    "\n",
    "    # Returns\n",
    "    --------------\n",
    "    :return: The result of the sinusoidal function.\n",
    "    \"\"\"\n",
    "    try:\n",
    "        return parameter_A * sp.sin(parameter_B * sympy_variable_x + parameter_C)\n",
    "    except Exception as ERROR:\n",
    "        return 0.\n",
    "    "
   ]
  },
  {
   "cell_type": "code",
   "execution_count": 86,
   "metadata": {},
   "outputs": [
    {
     "data": {
      "text/latex": [
       "$\\displaystyle 4 \\sin{\\left(20 x - 6 \\right)}$"
      ],
      "text/plain": [
       "4*sin(20*x - 6)"
      ]
     },
     "execution_count": 86,
     "metadata": {},
     "output_type": "execute_result"
    }
   ],
   "source": [
    "sympy_sine_function(variable_x, 4, 20, -6)"
   ]
  },
  {
   "cell_type": "markdown",
   "metadata": {},
   "source": [
    "Actually, one more thing we need to do is code up the function generator using Sympy."
   ]
  },
  {
   "cell_type": "code",
   "execution_count": 87,
   "metadata": {},
   "outputs": [],
   "source": [
    "def sympy_generate_random_function(sympy_variable_x: sp.Symbol, depth: int) -> float:\n",
    "    \n",
    "    functions = [\n",
    "        sympy_constant_function,\n",
    "        sympy_exponential_function,\n",
    "        sympy_logarithmic_function,\n",
    "        sympy_sine_function\n",
    "        ]\n",
    "\n",
    "    result = sympy_variable_x\n",
    "    \n",
    "    for iteration in range(depth):\n",
    "        function_index = np.random.randint(0, len(functions))\n",
    "        function = functions[function_index]\n",
    "        number_of_arguments_per_function = function.__code__.co_argcount\n",
    "        function_parameters = np.round(np.random.uniform(0, 12, size = number_of_arguments_per_function - 2))\n",
    "        result = function(result, 1, *function_parameters)\n",
    "\n",
    "    return result"
   ]
  },
  {
   "cell_type": "code",
   "execution_count": 88,
   "metadata": {},
   "outputs": [
    {
     "data": {
      "text/latex": [
       "$\\displaystyle \\text{NaN}$"
      ],
      "text/plain": [
       "nan"
      ]
     },
     "execution_count": 88,
     "metadata": {},
     "output_type": "execute_result"
    }
   ],
   "source": [
    "sympy_generate_random_function(variable_x, 2)"
   ]
  },
  {
   "cell_type": "markdown",
   "metadata": {},
   "source": [
    "That seems pretty easy. Let's just try it several times:"
   ]
  },
  {
   "cell_type": "markdown",
   "metadata": {},
   "source": [
    "## Depth: 1"
   ]
  },
  {
   "cell_type": "code",
   "execution_count": 89,
   "metadata": {},
   "outputs": [
    {
     "data": {
      "text/latex": [
       "$\\displaystyle x$"
      ],
      "text/plain": [
       "x"
      ]
     },
     "execution_count": 89,
     "metadata": {},
     "output_type": "execute_result"
    }
   ],
   "source": [
    "sympy_generate_random_function(variable_x, 1)"
   ]
  },
  {
   "cell_type": "code",
   "execution_count": 90,
   "metadata": {},
   "outputs": [
    {
     "data": {
      "text/latex": [
       "$\\displaystyle x$"
      ],
      "text/plain": [
       "x"
      ]
     },
     "execution_count": 90,
     "metadata": {},
     "output_type": "execute_result"
    }
   ],
   "source": [
    "sympy_generate_random_function(variable_x, 1)"
   ]
  },
  {
   "cell_type": "code",
   "execution_count": 91,
   "metadata": {},
   "outputs": [
    {
     "data": {
      "text/latex": [
       "$\\displaystyle x$"
      ],
      "text/plain": [
       "x"
      ]
     },
     "execution_count": 91,
     "metadata": {},
     "output_type": "execute_result"
    }
   ],
   "source": [
    "sympy_generate_random_function(variable_x, 1)"
   ]
  },
  {
   "cell_type": "markdown",
   "metadata": {},
   "source": [
    "## Depth: 2"
   ]
  },
  {
   "cell_type": "code",
   "execution_count": 92,
   "metadata": {},
   "outputs": [
    {
     "data": {
      "text/latex": [
       "$\\displaystyle \\log{\\left(10.0 x \\right)}$"
      ],
      "text/plain": [
       "log(10.0*x)"
      ]
     },
     "execution_count": 92,
     "metadata": {},
     "output_type": "execute_result"
    }
   ],
   "source": [
    "sympy_generate_random_function(variable_x, 2)"
   ]
  },
  {
   "cell_type": "code",
   "execution_count": 93,
   "metadata": {},
   "outputs": [
    {
     "data": {
      "text/latex": [
       "$\\displaystyle \\log{\\left(9.0 \\log{\\left(2.0 x \\right)} \\right)}$"
      ],
      "text/plain": [
       "log(9.0*log(2.0*x))"
      ]
     },
     "execution_count": 93,
     "metadata": {},
     "output_type": "execute_result"
    }
   ],
   "source": [
    "sympy_generate_random_function(variable_x, 2)"
   ]
  },
  {
   "cell_type": "code",
   "execution_count": 94,
   "metadata": {},
   "outputs": [
    {
     "data": {
      "text/latex": [
       "$\\displaystyle \\log{\\left(7.0 e^{7.0 x} \\right)}$"
      ],
      "text/plain": [
       "log(7.0*exp(7.0*x))"
      ]
     },
     "execution_count": 94,
     "metadata": {},
     "output_type": "execute_result"
    }
   ],
   "source": [
    "sympy_generate_random_function(variable_x, 2)"
   ]
  },
  {
   "cell_type": "markdown",
   "metadata": {},
   "source": [
    "## Depth: 3"
   ]
  },
  {
   "cell_type": "code",
   "execution_count": 95,
   "metadata": {},
   "outputs": [
    {
     "data": {
      "text/latex": [
       "$\\displaystyle \\sin{\\left(1.0 \\sin{\\left(7.0 x + 4.0 \\right)} + 10.0 \\right)}$"
      ],
      "text/plain": [
       "sin(1.0*sin(7.0*x + 4.0) + 10.0)"
      ]
     },
     "execution_count": 95,
     "metadata": {},
     "output_type": "execute_result"
    }
   ],
   "source": [
    "sympy_generate_random_function(variable_x, 3)"
   ]
  },
  {
   "cell_type": "code",
   "execution_count": 96,
   "metadata": {},
   "outputs": [
    {
     "data": {
      "text/latex": [
       "$\\displaystyle 12.0 x^{1.0}$"
      ],
      "text/plain": [
       "12.0*x**1.0"
      ]
     },
     "execution_count": 96,
     "metadata": {},
     "output_type": "execute_result"
    }
   ],
   "source": [
    "sympy_generate_random_function(variable_x, 3)"
   ]
  },
  {
   "cell_type": "code",
   "execution_count": 97,
   "metadata": {},
   "outputs": [
    {
     "data": {
      "text/latex": [
       "$\\displaystyle \\sin{\\left(4.0 e^{7.0 x} + 7.0 \\right)}$"
      ],
      "text/plain": [
       "sin(4.0*exp(7.0*x) + 7.0)"
      ]
     },
     "execution_count": 97,
     "metadata": {},
     "output_type": "execute_result"
    }
   ],
   "source": [
    "sympy_generate_random_function(variable_x, 3)"
   ]
  },
  {
   "cell_type": "markdown",
   "metadata": {},
   "source": [
    "## Depth: 5"
   ]
  },
  {
   "cell_type": "code",
   "execution_count": 98,
   "metadata": {},
   "outputs": [
    {
     "data": {
      "text/latex": [
       "$\\displaystyle \\sin{\\left(1.0 \\sin{\\left(7.0 x + 11.0 \\right)} + 7.0 \\right)}$"
      ],
      "text/plain": [
       "sin(1.0*sin(7.0*x + 11.0) + 7.0)"
      ]
     },
     "execution_count": 98,
     "metadata": {},
     "output_type": "execute_result"
    }
   ],
   "source": [
    "sympy_generate_random_function(variable_x, 5)"
   ]
  },
  {
   "cell_type": "markdown",
   "metadata": {},
   "source": [
    "## Depth: 7"
   ]
  },
  {
   "cell_type": "code",
   "execution_count": 99,
   "metadata": {},
   "outputs": [
    {
     "data": {
      "text/latex": [
       "$\\displaystyle e^{9.0 \\sin{\\left(6.0 \\sin{\\left(3.0 \\log{\\left(10.0 e^{12.0 \\sin{\\left(11.0 \\log{\\left(6.0 x \\right)} + 8.0 \\right)}} \\right)} + 9.0 \\right)} + 7.0 \\right)}}$"
      ],
      "text/plain": [
       "exp(9.0*sin(6.0*sin(3.0*log(10.0*exp(12.0*sin(11.0*log(6.0*x) + 8.0))) + 9.0) + 7.0))"
      ]
     },
     "execution_count": 99,
     "metadata": {},
     "output_type": "execute_result"
    }
   ],
   "source": [
    "sympy_generate_random_function(variable_x, 7)"
   ]
  },
  {
   "cell_type": "markdown",
   "metadata": {},
   "source": [
    "## Depth: 10"
   ]
  },
  {
   "cell_type": "code",
   "execution_count": 100,
   "metadata": {},
   "outputs": [
    {
     "data": {
      "text/latex": [
       "$\\displaystyle 200859416110144.0 \\left(\\sin^{2.0}{\\left(3.0 e^{8.0 x} + 5.0 \\right)}\\right)^{6.0}$"
      ],
      "text/plain": [
       "200859416110144.0*(sin(3.0*exp(8.0*x) + 5.0)**2.0)**6.0"
      ]
     },
     "execution_count": 100,
     "metadata": {},
     "output_type": "execute_result"
    }
   ],
   "source": [
    "sympy_generate_random_function(variable_x, 10)"
   ]
  },
  {
   "cell_type": "markdown",
   "metadata": {},
   "source": [
    "Now, let's try Lambdify. We want to turn these symbiolic expressions into something we can plug in for $x$."
   ]
  },
  {
   "cell_type": "code",
   "execution_count": 101,
   "metadata": {},
   "outputs": [],
   "source": [
    "randomly_generated_function = sympy_generate_random_function(variable_x, 2)\n",
    "numerical_expression = sp.lambdify(variable_x, randomly_generated_function, 'numpy')"
   ]
  },
  {
   "cell_type": "code",
   "execution_count": 102,
   "metadata": {},
   "outputs": [
    {
     "data": {
      "text/latex": [
       "$\\displaystyle \\log{\\left(7.0 e^{8.0 x} \\right)}$"
      ],
      "text/plain": [
       "log(7.0*exp(8.0*x))"
      ]
     },
     "execution_count": 102,
     "metadata": {},
     "output_type": "execute_result"
    }
   ],
   "source": [
    "randomly_generated_function"
   ]
  },
  {
   "cell_type": "markdown",
   "metadata": {},
   "source": [
    "I should be able to evaluate this by passing in a number."
   ]
  },
  {
   "cell_type": "code",
   "execution_count": 103,
   "metadata": {},
   "outputs": [
    {
     "data": {
      "text/plain": [
       "41.945910149055315"
      ]
     },
     "execution_count": 103,
     "metadata": {},
     "output_type": "execute_result"
    }
   ],
   "source": [
    "numerical_expression(5)"
   ]
  },
  {
   "cell_type": "code",
   "execution_count": 106,
   "metadata": {},
   "outputs": [
    {
     "data": {
      "text/plain": [
       "sympy.core.function.FunctionClass"
      ]
     },
     "execution_count": 106,
     "metadata": {},
     "output_type": "execute_result"
    }
   ],
   "source": [
    "type(sp.log)"
   ]
  },
  {
   "cell_type": "code",
   "execution_count": null,
   "metadata": {},
   "outputs": [],
   "source": []
  }
 ],
 "metadata": {
  "kernelspec": {
   "display_name": "Python 3",
   "language": "python",
   "name": "python3"
  },
  "language_info": {
   "codemirror_mode": {
    "name": "ipython",
    "version": 3
   },
   "file_extension": ".py",
   "mimetype": "text/x-python",
   "name": "python",
   "nbconvert_exporter": "python",
   "pygments_lexer": "ipython3",
   "version": "3.10.5"
  }
 },
 "nbformat": 4,
 "nbformat_minor": 2
}
